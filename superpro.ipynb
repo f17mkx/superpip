{
 "cells": [
  {
   "cell_type": "code",
   "execution_count": 7,
   "outputs": [
    {
     "name": "stdout",
     "output_type": "stream",
     "text": [
      "Overwriting superpro/__init__.py\n"
     ]
    }
   ],
   "source": [
    "%%writefile superpro/__init__.py\n",
    "import subprocess\n",
    "\n",
    "def save_list_2_filename(list2save, filename):\n",
    "    file = open(filename, 'w')\n",
    "    file.writelines('\\n'.join(list2save))\n",
    "    file.writelines('\\n')\n",
    "    file.close()\n",
    "\n",
    "def save_str_2_filename(str2save, filename):\n",
    "    file = open(filename, 'w')\n",
    "    file.write(str2save)\n",
    "    file.close()\n",
    "\n",
    "def load_from_filename(filename):\n",
    "    file = open(filename, 'r')\n",
    "    loaded = file.read()\n",
    "    file.close()\n",
    "    return loaded\n",
    "\n",
    "def pbpaste():\n",
    "    out=[]\n",
    "    pbpaste = subprocess.run(\n",
    "        ['pbpaste'],\n",
    "        text=True,\n",
    "        stdout=subprocess.PIPE,\n",
    "        check=True)\n",
    "    for line in pbpaste.stdout.split('\\n'):\n",
    "        out.append(line)\n",
    "    return out\n",
    "\n",
    "def pbcopy(str_2_pb):\n",
    "    # txt_file_2_pb='/Users/stevo/Code/tools/figlet/out/temp.txt'\n",
    "    # save_str_2_filename(str_2_pb, txt_file_2_pb)\n",
    "    subprocess.run(\n",
    "        # ['cat', txt_file_2_pb, '|', 'pbcopy'],\n",
    "        # [f'cat {txt_file_2_pb} | pbcopy'],\n",
    "        [f'echo {str_2_pb} | pbcopy'],\n",
    "        # ['echo', str_2_pb, '|', 'pbcopy'],\n",
    "        shell=True\n",
    "        # text=True,\n",
    "        # check=True\n",
    "    )\n",
    "\n",
    "def load_from_dir(filename):\n",
    "    file = open(filename, 'r')\n",
    "    loaded = file.read()\n",
    "    file.close()\n",
    "    return loaded\n",
    "\n",
    "\n",
    "def save_to_dir(str2save, filename):\n",
    "    file = open(filename, 'w')\n",
    "    file.write(str2save)\n",
    "    file.close()\n"
   ],
   "metadata": {
    "collapsed": false,
    "pycharm": {
     "name": "#%%\n"
    }
   }
  },
  {
   "cell_type": "markdown",
   "source": [],
   "metadata": {
    "collapsed": false,
    "pycharm": {
     "name": "#%% md\n"
    }
   }
  },
  {
   "cell_type": "code",
   "execution_count": 5,
   "outputs": [],
   "source": [
    "pbcopy('hihi')"
   ],
   "metadata": {
    "collapsed": false,
    "pycharm": {
     "name": "#%%\n"
    }
   }
  },
  {
   "cell_type": "code",
   "execution_count": null,
   "outputs": [],
   "source": [
    "hihi\n"
   ],
   "metadata": {
    "collapsed": false,
    "pycharm": {
     "name": "#%%\n"
    }
   }
  }
 ],
 "metadata": {
  "kernelspec": {
   "display_name": "Python 3",
   "language": "python",
   "name": "python3"
  },
  "language_info": {
   "codemirror_mode": {
    "name": "ipython",
    "version": 2
   },
   "file_extension": ".py",
   "mimetype": "text/x-python",
   "name": "python",
   "nbconvert_exporter": "python",
   "pygments_lexer": "ipython2",
   "version": "2.7.6"
  }
 },
 "nbformat": 4,
 "nbformat_minor": 0
}