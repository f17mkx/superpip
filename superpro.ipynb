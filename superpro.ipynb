{
 "cells": [
  {
   "cell_type": "code",
   "execution_count": 25,
   "outputs": [
    {
     "name": "stdout",
     "output_type": "stream",
     "text": [
      "Overwriting setup.py\n"
     ]
    }
   ],
   "source": [
    "%%writefile setup.py\n",
    "#!/usr/bin/env python\n",
    "\n",
    "import setuptools\n",
    "\n",
    "\n",
    "with open(\"README.md\", \"r\") as fh:\n",
    "    long_description = fh.read()\n",
    "\n",
    "\n",
    "setuptools.setup(\n",
    "     name=\"superpro\",\n",
    "     version=\"0.4.4\",\n",
    "     # version=version,\n",
    "     scripts=[],\n",
    "     author=\"Stefan Volk\",\n",
    "     author_email=\"pliable.bride_0o@icloud.com\",\n",
    "     description=\"tools\",\n",
    "     long_description=long_description,\n",
    "     long_description_content_type=\"text/markdown\",\n",
    "     url=\"https://github.com/f17mkx/superpip\",\n",
    "     packages=setuptools.find_packages(),\n",
    "     classifiers=[\n",
    "         \"Programming Language :: Python :: 3\",\n",
    "         \"License :: OSI Approved :: MIT License\",\n",
    "         \"Operating System :: OS Independent\",\n",
    "     ],\n",
    " )\n",
    "\n"
   ],
   "metadata": {
    "collapsed": false,
    "pycharm": {
     "name": "#%%\n"
    }
   }
  },
  {
   "cell_type": "code",
   "execution_count": 11,
   "outputs": [
    {
     "name": "stdout",
     "output_type": "stream",
     "text": [
      "Overwriting superpro/__init__.py\n"
     ]
    }
   ],
   "source": [
    "%%writefile superpro/__init__.py\n",
    "import subprocess\n",
    "import os\n",
    "\n",
    "\n",
    "\n",
    "def pbpaste():\n",
    "    out=[]\n",
    "    pbpaste = subprocess.run(\n",
    "        ['pbpaste'],\n",
    "        text=True,\n",
    "        stdout=subprocess.PIPE,\n",
    "        check=True)\n",
    "    for line in pbpaste.stdout.split('\\n'):\n",
    "        out.append(line)\n",
    "    return out\n",
    "\n",
    "def pbcopy(str_2_pb):\n",
    "    # txt_file_2_pb='/Users/stevo/Code/tools/figlet/out/temp.txt'\n",
    "    # save_str_2_filename(str_2_pb, txt_file_2_pb)\n",
    "    subprocess.run(\n",
    "        # ['cat', txt_file_2_pb, '|', 'pbcopy'],\n",
    "        # [f'cat {txt_file_2_pb} | pbcopy'],\n",
    "        [f'echo {str_2_pb} | pbcopy'],\n",
    "        # ['echo', str_2_pb, '|', 'pbcopy'],\n",
    "        shell=True\n",
    "        # text=True,\n",
    "        # check=True\n",
    "    )\n",
    "\n",
    "def files_in_dir_ending(target_dir:str, ending:str) -> list:\n",
    "    return [filename for filename in os.listdir(target_dir) if filename.endswith( '.' + ending)]\n",
    "\n",
    "def files_in_dir(target_dir:str) -> list:\n",
    "    return [filename for filename in os.listdir(target_dir) if not filename.startswith('.')]\n",
    "\n",
    "def printl(list_2_print:list, n:int=0) -> print:\n",
    "    if not n:\n",
    "        n=len(list_2_print)\n",
    "    for item in list_2_print[:n]: print(item)"
   ],
   "metadata": {
    "collapsed": false,
    "pycharm": {
     "name": "#%%\n"
    }
   }
  },
  {
   "cell_type": "code",
   "execution_count": 2,
   "outputs": [
    {
     "name": "stdout",
     "output_type": "stream",
     "text": [
      "Writing superpro/pasteboard.py\n"
     ]
    }
   ],
   "source": [
    "%%writefile superpro/pasteboard.py\n",
    "import subprocess\n",
    "\n",
    "def paste():\n",
    "    out=[]\n",
    "    pbpaste = subprocess.run(\n",
    "        ['pbpaste'],\n",
    "        text=True,\n",
    "        stdout=subprocess.PIPE,\n",
    "        check=True)\n",
    "    for line in pbpaste.stdout.split('\\n'):\n",
    "        out.append(line)\n",
    "    return out\n",
    "\n",
    "def copy(str_2_pb):\n",
    "    # txt_file_2_pb='/Users/stevo/Code/tools/figlet/out/temp.txt'\n",
    "    # save_str_2_filename(str_2_pb, txt_file_2_pb)\n",
    "    subprocess.run(\n",
    "        # ['cat', txt_file_2_pb, '|', 'pbcopy'],\n",
    "        # [f'cat {txt_file_2_pb} | pbcopy'],\n",
    "        [f'echo {str_2_pb} | pbcopy'],\n",
    "        # ['echo', str_2_pb, '|', 'pbcopy'],\n",
    "        shell=True\n",
    "        # text=True,\n",
    "        # check=True\n",
    "    )"
   ],
   "metadata": {
    "collapsed": false,
    "pycharm": {
     "name": "#%%\n"
    }
   }
  },
  {
   "cell_type": "markdown",
   "source": [],
   "metadata": {
    "collapsed": false,
    "pycharm": {
     "name": "#%% md\n"
    }
   }
  },
  {
   "cell_type": "code",
   "execution_count": 149,
   "outputs": [
    {
     "name": "stdout",
     "output_type": "stream",
     "text": [
      "Overwriting superpro/saveload.py\n"
     ]
    }
   ],
   "source": [
    "%%writefile superpro/saveload.py\n",
    "import json\n",
    "\n",
    "def save_list(input_list:list, filename:str) -> None:\n",
    "    \"\"\"saves @input_list as new lines to file\n",
    "    \"\"\"\n",
    "    file = open(filename, 'w')\n",
    "    file.writelines('\\n'.join(input_list))\n",
    "    file.writelines('\\n')\n",
    "    file.close()\n",
    "\n",
    "def save_str(input_string:str, filename:str) -> None:\n",
    "    \"\"\"saves @input_string as new lines to file\"\"\"\n",
    "    file = open(filename, 'w')\n",
    "    file.write(input_string)\n",
    "    file.close()\n",
    "\n",
    "def save_to_dir(input_string:str, filename:str) -> None:\n",
    "    \"\"\"Gets and prints the spreadsheet's header columns\n",
    "\n",
    "    @type file_loc: str\n",
    "    @param file_loc: The file location of the spreadsheet\n",
    "    @type print_cols: bool\n",
    "    @param print_cols: A flag used to print the columns to the console\n",
    "        (default is False)\n",
    "    @rtype: list\n",
    "    @returns: a list of strings representing the header columns\n",
    "    \"\"\"\n",
    "\n",
    "    file = open(filename, 'w')\n",
    "    file.write(input_string)\n",
    "    file.close()\n",
    "\n",
    "def load_file(filename:str) -> str:\n",
    "    file = open(filename, 'r')\n",
    "    loaded = file.read()\n",
    "    file.close()\n",
    "    return loaded\n",
    "\n",
    "def save_json(content:any, filename:str) -> None:\n",
    "    if not filename.endswith('.json'):\n",
    "        filename += '.json'\n",
    "    file = open(filename, 'w')\n",
    "    json.dump(content, file, indent=2)\n",
    "    file.close()\n",
    "\n",
    "def load_json(filename:str) -> any:\n",
    "    if not filename.endswith('.json'):\n",
    "        filename += '.json'\n",
    "    file = open(filename, 'r')\n",
    "    load = json.load(file)\n",
    "    file.close()\n",
    "    return load"
   ],
   "metadata": {
    "collapsed": false,
    "pycharm": {
     "name": "#%%\n"
    }
   }
  },
  {
   "cell_type": "code",
   "execution_count": 148,
   "outputs": [
    {
     "name": "stdout",
     "output_type": "stream",
     "text": [
      "Writing update.py\n"
     ]
    }
   ],
   "source": [
    "%%writefile update.py\n",
    "#!/usr/bin/env python\n",
    "\n",
    "import re\n",
    "import sys\n",
    "from superpro.saveload import load_file, save_str\n",
    "\n",
    "if __name__ == \"__main__\":\n",
    "    setup_file = load_file('setup.py')\n",
    "    try:\n",
    "        new_version = sys.argv[1]\n",
    "        # new_version = int(new_version[1])\n",
    "        # new_version = '0.4.31'\n",
    "        setup_file = re.sub(r'(?<=version=\").*\\d(?=\")', new_version, setup_file)\n",
    "    except:\n",
    "        old_version = re.search('version=\".*\\.(\\d*)\"',setup_file)[1]\n",
    "        new_version = str(int(old_version) + 1)\n",
    "        setup_file = re.sub(r'(?<=version=\"(\\d\\.){2})\\d+(?=\")', new_version, setup_file)\n",
    "        new_version = re.search(r'(?<=version=\").*\\d(?=\")',setup_file)[1]\n",
    "\n",
    "    save_str(setup_file, 'setup.py')\n",
    "\n",
    "    print(new_version)"
   ],
   "metadata": {
    "collapsed": false,
    "pycharm": {
     "name": "#%%\n"
    }
   }
  }
 ],
 "metadata": {
  "kernelspec": {
   "display_name": "Python 3",
   "language": "python",
   "name": "python3"
  },
  "language_info": {
   "codemirror_mode": {
    "name": "ipython",
    "version": 2
   },
   "file_extension": ".py",
   "mimetype": "text/x-python",
   "name": "python",
   "nbconvert_exporter": "python",
   "pygments_lexer": "ipython2",
   "version": "2.7.6"
  }
 },
 "nbformat": 4,
 "nbformat_minor": 0
}