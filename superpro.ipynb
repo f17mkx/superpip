{
 "cells": [
  {
   "cell_type": "code",
   "execution_count": 10,
   "outputs": [
    {
     "name": "stdout",
     "output_type": "stream",
     "text": [
      "Overwriting setup.py\n"
     ]
    }
   ],
   "source": [
    "%%writefile setup.py\n",
    "#!/usr/bin/env python\n",
    "\n",
    "import setuptools\n",
    "\n",
    "\n",
    "with open(\"README.md\", \"r\") as fh:\n",
    "    long_description = fh.read()\n",
    "\n",
    "\n",
    "setuptools.setup(\n",
    "     name='superpro',\n",
    "     version='0.4.4',\n",
    "     # version=version,\n",
    "     scripts=[],\n",
    "     author=\"Stefan Volk\",\n",
    "     author_email=\"pliable.bride_0o@icloud.com\",\n",
    "     description=\"tools\",\n",
    "     long_description=long_description,\n",
    "     long_description_content_type=\"text/markdown\",\n",
    "     url=\"https://github.com/f17mkx/superpip\",\n",
    "     packages=setuptools.find_packages(),\n",
    "     classifiers=[\n",
    "         \"Programming Language :: Python :: 3\",\n",
    "         \"License :: OSI Approved :: MIT License\",\n",
    "         \"Operating System :: OS Independent\",\n",
    "     ],\n",
    " )\n",
    "\n"
   ],
   "metadata": {
    "collapsed": false,
    "pycharm": {
     "name": "#%%\n"
    }
   }
  },
  {
   "cell_type": "code",
   "execution_count": 1,
   "outputs": [
    {
     "name": "stdout",
     "output_type": "stream",
     "text": [
      "Overwriting superpro/__init__.py\n"
     ]
    }
   ],
   "source": [
    "%%writefile superpro/__init__.py\n",
    "import subprocess\n",
    "import os\n",
    "\n",
    "def save_list_2_filename(list2save, filename):\n",
    "    file = open(filename, 'w')\n",
    "    file.writelines('\\n'.join(list2save))\n",
    "    file.writelines('\\n')\n",
    "    file.close()\n",
    "\n",
    "def save_str_2_filename(str2save, filename):\n",
    "    file = open(filename, 'w')\n",
    "    file.write(str2save)\n",
    "    file.close()\n",
    "\n",
    "def save_to_dir(str2save, filename):\n",
    "    file = open(filename, 'w')\n",
    "    file.write(str2save)\n",
    "    file.close()\n",
    "\n",
    "def load_from_filename(filename):\n",
    "    file = open(filename, 'r')\n",
    "    loaded = file.read()\n",
    "    file.close()\n",
    "    return loaded\n",
    "\n",
    "def load_from_dir(filename):\n",
    "    file = open(filename, 'r')\n",
    "    loaded = file.read()\n",
    "    file.close()\n",
    "    return loaded\n",
    "\n",
    "def pbpaste():\n",
    "    out=[]\n",
    "    pbpaste = subprocess.run(\n",
    "        ['pbpaste'],\n",
    "        text=True,\n",
    "        stdout=subprocess.PIPE,\n",
    "        check=True)\n",
    "    for line in pbpaste.stdout.split('\\n'):\n",
    "        out.append(line)\n",
    "    return out\n",
    "\n",
    "def pbcopy(str_2_pb):\n",
    "    # txt_file_2_pb='/Users/stevo/Code/tools/figlet/out/temp.txt'\n",
    "    # save_str_2_filename(str_2_pb, txt_file_2_pb)\n",
    "    subprocess.run(\n",
    "        # ['cat', txt_file_2_pb, '|', 'pbcopy'],\n",
    "        # [f'cat {txt_file_2_pb} | pbcopy'],\n",
    "        [f'echo {str_2_pb} | pbcopy'],\n",
    "        # ['echo', str_2_pb, '|', 'pbcopy'],\n",
    "        shell=True\n",
    "        # text=True,\n",
    "        # check=True\n",
    "    )\n",
    "\n",
    "def files_in_dir_ending(target_dir:str, ending:str) -> list:\n",
    "    return [filename for filename in os.listdir(target_dir) if filename.endswith( '.' + ending)]\n",
    "\n",
    "def files_in_dir(target_dir:str) -> list:\n",
    "    return [filename for filename in os.listdir(target_dir) if not filename.startswith('.')]\n",
    "\n",
    "def printl(list_2_print:list, n:int=0) -> print:\n",
    "    if not n:\n",
    "        n=len(list_2_print)\n",
    "    for item in list_2_print[:n]: print(item)"
   ],
   "metadata": {
    "collapsed": false,
    "pycharm": {
     "name": "#%%\n"
    }
   }
  },
  {
   "cell_type": "code",
   "execution_count": 2,
   "outputs": [
    {
     "name": "stdout",
     "output_type": "stream",
     "text": [
      "Writing superpro/pasteboard.py\n"
     ]
    }
   ],
   "source": [
    "%%writefile superpro/pasteboard.py\n",
    "import subprocess\n",
    "\n",
    "def paste():\n",
    "    out=[]\n",
    "    pbpaste = subprocess.run(\n",
    "        ['pbpaste'],\n",
    "        text=True,\n",
    "        stdout=subprocess.PIPE,\n",
    "        check=True)\n",
    "    for line in pbpaste.stdout.split('\\n'):\n",
    "        out.append(line)\n",
    "    return out\n",
    "\n",
    "def copy(str_2_pb):\n",
    "    # txt_file_2_pb='/Users/stevo/Code/tools/figlet/out/temp.txt'\n",
    "    # save_str_2_filename(str_2_pb, txt_file_2_pb)\n",
    "    subprocess.run(\n",
    "        # ['cat', txt_file_2_pb, '|', 'pbcopy'],\n",
    "        # [f'cat {txt_file_2_pb} | pbcopy'],\n",
    "        [f'echo {str_2_pb} | pbcopy'],\n",
    "        # ['echo', str_2_pb, '|', 'pbcopy'],\n",
    "        shell=True\n",
    "        # text=True,\n",
    "        # check=True\n",
    "    )"
   ],
   "metadata": {
    "collapsed": false,
    "pycharm": {
     "name": "#%%\n"
    }
   }
  },
  {
   "cell_type": "markdown",
   "source": [],
   "metadata": {
    "collapsed": false,
    "pycharm": {
     "name": "#%% md\n"
    }
   }
  },
  {
   "cell_type": "code",
   "execution_count": 5,
   "outputs": [],
   "source": [
    "pbcopy('hihi')"
   ],
   "metadata": {
    "collapsed": false,
    "pycharm": {
     "name": "#%%\n"
    }
   }
  },
  {
   "cell_type": "code",
   "execution_count": null,
   "outputs": [],
   "source": [
    "hihi\n"
   ],
   "metadata": {
    "collapsed": false,
    "pycharm": {
     "name": "#%%\n"
    }
   }
  },
  {
   "cell_type": "code",
   "execution_count": 1,
   "outputs": [
    {
     "data": {
      "text/plain": "['dlp-auto.sh',\n 'osig',\n '.DS_Store',\n 'spotify',\n 'clip-dlp.sh',\n 'dlp.ipynb',\n 'yt',\n 'm94',\n 'ctb',\n '.idea']"
     },
     "execution_count": 1,
     "metadata": {},
     "output_type": "execute_result"
    }
   ],
   "source": [
    "import os\n",
    "os.listdir()"
   ],
   "metadata": {
    "collapsed": false,
    "pycharm": {
     "name": "#%%\n"
    }
   }
  }
 ],
 "metadata": {
  "kernelspec": {
   "display_name": "Python 3",
   "language": "python",
   "name": "python3"
  },
  "language_info": {
   "codemirror_mode": {
    "name": "ipython",
    "version": 2
   },
   "file_extension": ".py",
   "mimetype": "text/x-python",
   "name": "python",
   "nbconvert_exporter": "python",
   "pygments_lexer": "ipython2",
   "version": "2.7.6"
  }
 },
 "nbformat": 4,
 "nbformat_minor": 0
}